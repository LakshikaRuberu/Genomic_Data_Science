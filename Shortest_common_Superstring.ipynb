{
 "cells": [
  {
   "cell_type": "markdown",
   "id": "5e7da8a1",
   "metadata": {},
   "source": [
    "Shortest Common Superstring algorithm"
   ]
  },
  {
   "cell_type": "code",
   "execution_count": 3,
   "id": "c415d1e0",
   "metadata": {},
   "outputs": [],
   "source": [
    "def overlap(a, b, min_length=3):\n",
    "    \"\"\" Return length of longest suffix of 'a' matching\n",
    "        a prefix of 'b' that is at least 'min_length'\n",
    "        characters long.  If no such overlap exists,\n",
    "        return 0. \"\"\"\n",
    "    start = 0  # start all the way at the left\n",
    "    while True:\n",
    "        start = a.find(b[:min_length], start)  # look for b's prefix in a\n",
    "        if start == -1:  # no more occurrences to right\n",
    "            return 0\n",
    "        # found occurrence; check for full suffix/prefix match\n",
    "        if b.startswith(a[start:]):\n",
    "            return len(a)-start\n",
    "        start += 1  # move just past previous match"
   ]
  },
  {
   "cell_type": "code",
   "execution_count": 4,
   "id": "b8084889",
   "metadata": {},
   "outputs": [],
   "source": [
    "import itertools\n",
    "\n",
    "def scs(ss):\n",
    "    \"\"\" Returns shortest common superstring of given strings,\n",
    "        assuming no string is a strict substring of another \"\"\"\n",
    "    shortest_sup = None\n",
    "    for ssperm in itertools.permutations(ss):\n",
    "        sup = ssperm[0]\n",
    "        for i in range(len(ss)-1):\n",
    "            olen = overlap(ssperm[i], ssperm[i+1], min_length=1)\n",
    "            sup += ssperm[i+1][olen:]\n",
    "        if shortest_sup is None or len(sup) < len(shortest_sup):\n",
    "            shortest_sup = sup\n",
    "    return shortest_sup"
   ]
  },
  {
   "cell_type": "code",
   "execution_count": null,
   "id": "1ab98bd3",
   "metadata": {},
   "outputs": [],
   "source": [
    "scs(['ACGGATGAGC', 'GAGCGGA', 'GAGCGAG'])"
   ]
  },
  {
   "cell_type": "markdown",
   "id": "de83b2ba",
   "metadata": {},
   "source": [
    "Greedy Shortest Common Superstring algorithm. Here though it is not as computationally intensive as shortest common algorithm it might return a superstring that is not the shortest"
   ]
  },
  {
   "cell_type": "code",
   "execution_count": null,
   "id": "08706ac5",
   "metadata": {},
   "outputs": [],
   "source": [
    "def pick_maximal_overlap(reads, k):\n",
    "    \"\"\" Return a pair of reads from the list with a\n",
    "        maximal suffix/prefix overlap >= k.  Returns\n",
    "        overlap length 0 if there are no such overlaps.\"\"\"\n",
    "    reada, readb = None, None\n",
    "    best_olen = 0\n",
    "    for a, b in itertools.permutations(reads, 2):\n",
    "        olen = overlap(a, b, min_length=k)\n",
    "        if olen > best_olen:\n",
    "            reada, readb = a, b\n",
    "            best_olen = olen\n",
    "    return reada, readb, best_olen"
   ]
  },
  {
   "cell_type": "code",
   "execution_count": null,
   "id": "3bc499d1",
   "metadata": {},
   "outputs": [],
   "source": [
    "def greedy_scs(reads, k):\n",
    "    \"\"\" Greedy shortest-common-superstring merge.\n",
    "        Repeat until no edges (overlaps of length >= k)\n",
    "        remain. \"\"\"\n",
    "    read_a, read_b, olen = pick_maximal_overlap(reads, k)\n",
    "    while olen > 0:\n",
    "        reads.remove(read_a)\n",
    "        reads.remove(read_b)\n",
    "        reads.append(read_a + read_b[olen:])\n",
    "        read_a, read_b, olen = pick_maximal_overlap(reads, k)\n",
    "    return ''.join(reads)"
   ]
  },
  {
   "cell_type": "code",
   "execution_count": null,
   "id": "e4d32c97",
   "metadata": {},
   "outputs": [],
   "source": [
    "greedy_scs(['ABC', 'BCA', 'CAB'], 2)"
   ]
  },
  {
   "cell_type": "code",
   "execution_count": null,
   "id": "0882eca6",
   "metadata": {},
   "outputs": [],
   "source": [
    "greedy_scs(['ABCD', 'CDBC', 'BCDA'], 1)"
   ]
  },
  {
   "cell_type": "code",
   "execution_count": null,
   "id": "ed7b047d",
   "metadata": {},
   "outputs": [],
   "source": [
    "scs(['ABCD', 'CDBC', 'BCDA'])"
   ]
  },
  {
   "cell_type": "code",
   "execution_count": 7,
   "id": "db517872",
   "metadata": {},
   "outputs": [
    {
     "data": {
      "text/plain": [
       "11"
      ]
     },
     "execution_count": 7,
     "metadata": {},
     "output_type": "execute_result"
    }
   ],
   "source": [
    "len(scs(['CCT','CTT','TGC','TGG','GAT','ATT']))\n"
   ]
  },
  {
   "cell_type": "markdown",
   "id": "16667f99",
   "metadata": {},
   "source": [
    "Modifying scs function to also output the number of possible shortest common strings"
   ]
  },
  {
   "cell_type": "code",
   "execution_count": 29,
   "id": "a7383ebf",
   "metadata": {},
   "outputs": [],
   "source": [
    "import itertools\n",
    "\n",
    "def scs_withcount(ss):\n",
    "    shortest_sup = []\n",
    "    for ssperm in itertools.permutations(ss):\n",
    "        sup = ssperm[0]  # superstring starts as first string\n",
    "        for i in range(len(ss)-1):\n",
    "            # overlap adjacent strings A and B in the permutation\n",
    "            olen = overlap(ssperm[i], ssperm[i+1], min_length=1)\n",
    "            # add non-overlapping portion of B to superstring\n",
    "            sup += ssperm[i+1][olen:]\n",
    "        shortest_sup.append(sup)  # found shorter superstring\n",
    "    shortest_len = len(ss) * len(ss[0])\n",
    "    for sup in shortest_sup:\n",
    "        if len(sup) <= shortest_len:\n",
    "            shortest_len = len(sup)\n",
    "    shortest_sup = [sup for sup in shortest_sup if len(sup) == shortest_len]\n",
    "    return list(set(shortest_sup))  # return shortest"
   ]
  },
  {
   "cell_type": "code",
   "execution_count": 30,
   "id": "1fdb8d13",
   "metadata": {},
   "outputs": [
    {
     "data": {
      "text/plain": [
       "['ABCAB', 'CABCA', 'BCABC']"
      ]
     },
     "execution_count": 30,
     "metadata": {},
     "output_type": "execute_result"
    }
   ],
   "source": [
    "shortest_sup=scs_withcount(['ABC', 'BCA', 'CAB'])\n",
    "shortest_sup"
   ]
  },
  {
   "cell_type": "code",
   "execution_count": 34,
   "id": "f691d826",
   "metadata": {},
   "outputs": [
    {
     "data": {
      "text/plain": [
       "['TGGATTGCCTT', 'GATTGCCTTGG', 'TGCCTTGGATT', 'CCTTGGATTGC']"
      ]
     },
     "execution_count": 34,
     "metadata": {},
     "output_type": "execute_result"
    }
   ],
   "source": [
    "shortest_sup=scs_withcount(['CCT','CTT','TGC','TGG','GAT','ATT'])\n",
    "shortest_sup"
   ]
  },
  {
   "cell_type": "code",
   "execution_count": 17,
   "id": "b610b121",
   "metadata": {},
   "outputs": [
    {
     "data": {
      "text/plain": [
       "35"
      ]
     },
     "execution_count": 17,
     "metadata": {},
     "output_type": "execute_result"
    }
   ],
   "source": []
  },
  {
   "cell_type": "code",
   "execution_count": null,
   "id": "90cf4609",
   "metadata": {},
   "outputs": [],
   "source": []
  }
 ],
 "metadata": {
  "kernelspec": {
   "display_name": "Python 3 (ipykernel)",
   "language": "python",
   "name": "python3"
  },
  "language_info": {
   "codemirror_mode": {
    "name": "ipython",
    "version": 3
   },
   "file_extension": ".py",
   "mimetype": "text/x-python",
   "name": "python",
   "nbconvert_exporter": "python",
   "pygments_lexer": "ipython3",
   "version": "3.9.7"
  }
 },
 "nbformat": 4,
 "nbformat_minor": 5
}
