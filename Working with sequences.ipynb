{
 "cells": [
  {
   "cell_type": "markdown",
   "id": "00eed142-a6c1-4068-9ce7-c9e692a2e0a1",
   "metadata": {},
   "source": [
    "**Working with sequences**\n",
    "Import the FASTA file"
   ]
  },
  {
   "cell_type": "code",
   "execution_count": null,
   "id": "e4adb196-e450-4350-9c91-59058d9399f8",
   "metadata": {},
   "outputs": [],
   "source": [
    "import Bio\n",
    "from fileinput import close\n",
    "\n",
    "#we read the FASTA file if the current line is a header we add that as a key to the dictionary if not we\n",
    "#add the cuurent line as the value\n",
    "try:\n",
    "    f=open(\"dna2.fasta\")\n",
    "except IOError:\n",
    "    print(\"File does not exist!!\")\n"
   ]
  },
  {
   "cell_type": "markdown",
   "id": "94cefa74-aa7b-4c01-af22-373ae493dcc4",
   "metadata": {},
   "source": [
    "We have sequences and a corresponding ID to the FASTA file. Creating a dictionary where the id is the key and the corresponding sequence is the value"
   ]
  },
  {
   "cell_type": "code",
   "execution_count": 320,
   "id": "6a3fdd89",
   "metadata": {},
   "outputs": [],
   "source": [
    "\n",
    "#initialize dictionary\n",
    "seqs={}\n",
    "for line in f:\n",
    "#discard the newline at the end if any\n",
    "    line=line.rstrip()\n",
    "    if line[0]=='>': #or line.startswith('>')\n",
    "        words=line.split()\n",
    "        name=words[0][1:]\n",
    "        seqs[name]=''\n",
    "    else :\n",
    "        seqs[name]= seqs[name]+line\n",
    "\n",
    "\n"
   ]
  },
  {
   "cell_type": "markdown",
   "id": "96144e26-1823-400a-a80a-6c3781cf6e0b",
   "metadata": {},
   "source": [
    "No of entries in the dictionary"
   ]
  },
  {
   "cell_type": "code",
   "execution_count": 310,
   "id": "28d991b5",
   "metadata": {},
   "outputs": [
    {
     "data": {
      "text/plain": [
       "18"
      ]
     },
     "execution_count": 310,
     "metadata": {},
     "output_type": "execute_result"
    }
   ],
   "source": [
    "len(seqs)# no of dictionary items\n"
   ]
  },
  {
   "cell_type": "markdown",
   "id": "73f461f8-fc24-4e62-af07-89ba7962f019",
   "metadata": {},
   "source": [
    "Length of each sequence"
   ]
  },
  {
   "cell_type": "code",
   "execution_count": 339,
   "id": "d5eecc51",
   "metadata": {},
   "outputs": [
    {
     "data": {
      "text/plain": [
       "115"
      ]
     },
     "execution_count": 339,
     "metadata": {},
     "output_type": "execute_result"
    }
   ],
   "source": [
    "#lengths of sequences\n",
    "seq_length=[]\n",
    "for name,seq in seqs.items():\n",
    "    seq_length.append(len(seqs[name]))\n",
    "   \n",
    "min(seq_length)\n",
    "\n"
   ]
  },
  {
   "cell_type": "markdown",
   "id": "2989cddf-ccf5-4163-b4bf-54a270b8ce6a",
   "metadata": {},
   "source": [
    "Check whether there are multiple sequences that have the maximum or minimum lengths"
   ]
  },
  {
   "cell_type": "code",
   "execution_count": 290,
   "id": "8ad12656-62a5-47ee-934a-d54e14158c12",
   "metadata": {},
   "outputs": [
    {
     "name": "stdout",
     "output_type": "stream",
     "text": [
      "[2]\n",
      "[16]\n"
     ]
    }
   ],
   "source": [
    "#checking whether multiple sequences with max length\n",
    "indices_max=[index for index, item in enumerate(seq_length) if item==max(seq_length)]\n",
    "print(indices_max)\n",
    "\n",
    "#checking whether multiple sequences with min length\n",
    "indices_min=[index for index, item in enumerate(seq_length) if item==min(seq_length)]\n",
    "print(indices_min)"
   ]
  },
  {
   "cell_type": "markdown",
   "id": "6ce7e3c3-1612-4599-aa5c-d1bf413e10a9",
   "metadata": {},
   "source": [
    "Print sequence IDs of sequences corresponding to maximum or minimum lengths"
   ]
  },
  {
   "cell_type": "code",
   "execution_count": 69,
   "id": "4e5d8f15",
   "metadata": {},
   "outputs": [
    {
     "name": "stdout",
     "output_type": "stream",
     "text": [
      "gi|142022655|gb|EQ086233.1|521\n"
     ]
    }
   ],
   "source": [
    "min_len_seq=min(seqs.values(), key=len) # Id corresponding to the sequence with minimum length"
   ]
  },
  {
   "cell_type": "code",
   "execution_count": 70,
   "id": "d73ff8f4",
   "metadata": {},
   "outputs": [
    {
     "name": "stdout",
     "output_type": "stream",
     "text": [
      "gi|142022655|gb|EQ086233.1|323\n"
     ]
    }
   ],
   "source": [
    "max_len_seq=max(seqs.values(), key=len) # Id corresponding to the sequence with maximum length\n"
   ]
  },
  {
   "cell_type": "markdown",
   "id": "a8c1dd39-5709-47ac-a0a7-4de8381b7969",
   "metadata": {},
   "source": [
    "Writing a function to identify open reading frames in a given sequence"
   ]
  },
  {
   "cell_type": "code",
   "execution_count": null,
   "id": "514d85c3-a74b-429e-a55a-c7dd3d3f7eb6",
   "metadata": {},
   "outputs": [],
   "source": [
    "\n",
    "#cheking whether a given sequence has a start or stop codon\n",
    "\n",
    "def startstop_codon(dna, frame):\n",
    "    dna = dna.lower() #make all the letter lower case\n",
    "    for i in range(frame, len(dna), 3): #iterate through 3 letters at a time\n",
    "        codon1 = dna[i:i+3]\n",
    "        if codon1 == 'atg':\n",
    "            position1 = i # marking the position of the start codon\n",
    "            for j in range(position1, len(dna), 3):\n",
    "                codon2 = dna[j:j+3]\n",
    "                if codon2 in ['taa', 'tag', 'tga']:\n",
    "                    position2 = j  # position of the stop codon\n",
    "                    yield (position1,position2-position1+3, dna[position1:position2+3]) # return the position of ORF, its length and the values\n",
    "                    break\n",
    "\n",
    "\n"
   ]
  },
  {
   "cell_type": "markdown",
   "id": "b64f9e96-fbeb-4ade-8bf5-d2a7969cefab",
   "metadata": {},
   "source": [
    "Function to iterate through all the sequences in the FASTA file and store the lengths and starting position of each of the open reading frame"
   ]
  },
  {
   "cell_type": "code",
   "execution_count": 341,
   "id": "b83b5d4b-a4c2-438a-8a93-938c7b624874",
   "metadata": {},
   "outputs": [],
   "source": [
    "#iterating through each sequence to find all the ORF in each sequence\n",
    "\n",
    "def finding_ORF(frame,seqs):\n",
    "    sequences=list(seqs.values()) #take the values of the sequences as a list to iterate through it\n",
    "    ORF_lengths={}  #dictionary to store length of the ORF of each sequence and its ID\n",
    "    positions={}  #dictionary to store position of the ORF of each sequence and its ID\n",
    "    for read in range(len(sequences)): #loop for accessing each sequence read from the list\n",
    "        seq=str(sequences[read])\n",
    "        a=(list(startstop_codon(seq, frame))) #calling the codon reading function\n",
    "        orf_lengths= [item[1] for item in a]  #get the length\n",
    "        orf_position=[item[0] for item in a]  # get the position\n",
    "        if  len(orf_lengths)== 0: #assigning value for reads with no codons\n",
    "             orf_lengths = [0] #assigning value for reads with no codons\n",
    "             orf_position = ['NULL']\n",
    "        ORF_lengths[list(seqs.keys())[read]]=orf_lengths#creating a dictionary of ORF lengths(value) and sequence IDs(key)\n",
    "        positions[list(seqs.keys())[read]]=orf_position\n",
    "    return (ORF_lengths, positions)\n",
    "\n",
    "ORF_lengths, positions= finding_ORF(0,seqs)\n"
   ]
  },
  {
   "cell_type": "markdown",
   "id": "2cb411c6-b2bd-4871-9dcd-9cde5a92174c",
   "metadata": {},
   "source": [
    "Maximum lengths of ORF corresponding to each sequence"
   ]
  },
  {
   "cell_type": "code",
   "execution_count": 342,
   "id": "e4e53e6a-8613-4f0e-a12a-c37fc6af371c",
   "metadata": {},
   "outputs": [
    {
     "name": "stdout",
     "output_type": "stream",
     "text": [
      "Longest ORF in Frame 1 with sequence id gi|142022655|gb|EQ086233.1|91 is of length 1296 \n",
      "Longest ORF in Frame 1 with sequence id gi|142022655|gb|EQ086233.1|304 is of length 105 \n",
      "Longest ORF in Frame 1 with sequence id gi|142022655|gb|EQ086233.1|255 is of length 1443 \n",
      "Longest ORF in Frame 1 with sequence id gi|142022655|gb|EQ086233.1|45 is of length 2394 \n",
      "Longest ORF in Frame 1 with sequence id gi|142022655|gb|EQ086233.1|396 is of length 1059 \n",
      "Longest ORF in Frame 1 with sequence id gi|142022655|gb|EQ086233.1|250 is of length 1560 \n",
      "Longest ORF in Frame 1 with sequence id gi|142022655|gb|EQ086233.1|322 is of length 0 \n",
      "Longest ORF in Frame 1 with sequence id gi|142022655|gb|EQ086233.1|88 is of length 120 \n",
      "Longest ORF in Frame 1 with sequence id gi|142022655|gb|EQ086233.1|594 is of length 42 \n",
      "Longest ORF in Frame 1 with sequence id gi|142022655|gb|EQ086233.1|293 is of length 312 \n",
      "Longest ORF in Frame 1 with sequence id gi|142022655|gb|EQ086233.1|75 is of length 180 \n",
      "Longest ORF in Frame 1 with sequence id gi|142022655|gb|EQ086233.1|454 is of length 1044 \n",
      "Longest ORF in Frame 1 with sequence id gi|142022655|gb|EQ086233.1|16 is of length 1509 \n",
      "Longest ORF in Frame 1 with sequence id gi|142022655|gb|EQ086233.1|584 is of length 90 \n",
      "Longest ORF in Frame 1 with sequence id gi|142022655|gb|EQ086233.1|4 is of length 249 \n",
      "Longest ORF in Frame 1 with sequence id gi|142022655|gb|EQ086233.1|277 is of length 204 \n",
      "Longest ORF in Frame 1 with sequence id gi|142022655|gb|EQ086233.1|346 is of length 0 \n",
      "Longest ORF in Frame 1 with sequence id gi|142022655|gb|EQ086233.1|527 is of length 195 \n"
     ]
    }
   ],
   "source": [
    "\n",
    "#maximum length ORF for each sequence\n",
    "position=[]\n",
    "for name,seq in ORF_lengths.items():\n",
    "    \n",
    "    max_value=max(seq)\n",
    "    print(\"Longest ORF in Frame 1 with sequence id %s is of length %d \" % (name ,max_value))\n",
    "    position.append(seq.index(max_value))\n",
    "\n",
    "    "
   ]
  },
  {
   "cell_type": "code",
   "execution_count": 343,
   "id": "c6aa5c4a-89bd-4608-a328-e7470bc336c4",
   "metadata": {},
   "outputs": [
    {
     "name": "stdout",
     "output_type": "stream",
     "text": [
      "The length of the longest ORF is  2394\n",
      "The corresponding sequence id is  gi|142022655|gb|EQ086233.1|45\n"
     ]
    }
   ],
   "source": [
    "#Get the value and the id of the ORF with the maximum length\n",
    "max_value = max(max(ORF_lengths.values()))\n",
    "print(\"The length of the longest ORF is \",max_value)\n",
    "max_id=max(ORF_lengths, key=ORF_lengths.get)\n",
    "print(\"The corresponding sequence id is \", max_id)\n"
   ]
  },
  {
   "cell_type": "code",
   "execution_count": null,
   "id": "61642ed6-d714-40b5-9a1a-e5e847b39c52",
   "metadata": {},
   "outputs": [],
   "source": [
    "Positions of maximum lengths of ORF corresponding to each sequence"
   ]
  },
  {
   "cell_type": "code",
   "execution_count": 317,
   "id": "96089010-85bc-4d91-9855-0aa909dd3cd0",
   "metadata": {},
   "outputs": [
    {
     "name": "stdout",
     "output_type": "stream",
     "text": [
      "The position  corresponding to the longest ORF in sequence id gi|142022655|gb|EQ086233.1|91 is  2855\n",
      "The position  corresponding to the longest ORF in sequence id gi|142022655|gb|EQ086233.1|304 is  620\n",
      "The position  corresponding to the longest ORF in sequence id gi|142022655|gb|EQ086233.1|255 is  1640\n",
      "The position  corresponding to the longest ORF in sequence id gi|142022655|gb|EQ086233.1|45 is  698\n",
      "The position  corresponding to the longest ORF in sequence id gi|142022655|gb|EQ086233.1|396 is  428\n",
      "The position  corresponding to the longest ORF in sequence id gi|142022655|gb|EQ086233.1|250 is  1373\n",
      "The position  corresponding to the longest ORF in sequence id gi|142022655|gb|EQ086233.1|322 is  89\n",
      "The position  corresponding to the longest ORF in sequence id gi|142022655|gb|EQ086233.1|88 is  NULL\n",
      "The position  corresponding to the longest ORF in sequence id gi|142022655|gb|EQ086233.1|594 is  65\n",
      "The position  corresponding to the longest ORF in sequence id gi|142022655|gb|EQ086233.1|293 is  2333\n",
      "The position  corresponding to the longest ORF in sequence id gi|142022655|gb|EQ086233.1|75 is  56\n",
      "The position  corresponding to the longest ORF in sequence id gi|142022655|gb|EQ086233.1|454 is  3095\n",
      "The position  corresponding to the longest ORF in sequence id gi|142022655|gb|EQ086233.1|16 is  1439\n",
      "The position  corresponding to the longest ORF in sequence id gi|142022655|gb|EQ086233.1|584 is  347\n",
      "The position  corresponding to the longest ORF in sequence id gi|142022655|gb|EQ086233.1|4 is  1277\n",
      "The position  corresponding to the longest ORF in sequence id gi|142022655|gb|EQ086233.1|277 is  758\n",
      "The position  corresponding to the longest ORF in sequence id gi|142022655|gb|EQ086233.1|346 is  NULL\n",
      "The position  corresponding to the longest ORF in sequence id gi|142022655|gb|EQ086233.1|527 is  635\n"
     ]
    }
   ],
   "source": [
    "# position of maximum length ORF for each sequence\n",
    "for ((name,seq),i) in zip(positions.items(),position):\n",
    "        print(\"The position  corresponding to the longest ORF in sequence id %s is  %s\" % (name , seq[i]))\n",
    "    "
   ]
  },
  {
   "cell_type": "code",
   "execution_count": 250,
   "id": "d5c835a8-72ba-46a1-9518-3c7090afa003",
   "metadata": {},
   "outputs": [
    {
     "data": {
      "text/plain": [
       "1509"
      ]
     },
     "execution_count": 250,
     "metadata": {},
     "output_type": "execute_result"
    }
   ],
   "source": [
    "#For a given sequence identifier, what is the longest ORF contained in the sequence represented by that identifier? \n",
    "\n",
    "\n",
    "def find_id(id):\n",
    "    max_length= max(ORF_lengths[id])\n",
    "    return(max_length)\n",
    "\n",
    "find_id('gi|142022655|gb|EQ086233.1|16')\n"
   ]
  }
 ],
 "metadata": {
  "kernelspec": {
   "display_name": "Python 3 (ipykernel)",
   "language": "python",
   "name": "python3"
  },
  "language_info": {
   "codemirror_mode": {
    "name": "ipython",
    "version": 3
   },
   "file_extension": ".py",
   "mimetype": "text/x-python",
   "name": "python",
   "nbconvert_exporter": "python",
   "pygments_lexer": "ipython3",
   "version": "3.9.7"
  }
 },
 "nbformat": 4,
 "nbformat_minor": 5
}
